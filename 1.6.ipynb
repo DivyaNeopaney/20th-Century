{
 "cells": [
  {
   "cell_type": "code",
   "execution_count": 2,
   "id": "4472e52e-4967-4401-bb17-bf44e95b00b9",
   "metadata": {},
   "outputs": [],
   "source": [
    "#Importing\n",
    "import pandas as pd\n",
    "import numpy as np\n",
    "import spacy\n",
    "from spacy import displacy\n",
    "import networkx as nx\n",
    "import os\n",
    "import matplotlib.pyplot as plt\n",
    "import scipy\n",
    "import re\n",
    "\n",
    "# loading the SpaCy in English\n",
    "NER = spacy.load(\"en_core_web_sm\")"
   ]
  },
  {
   "cell_type": "code",
   "execution_count": 5,
   "id": "b3a09411-f969-4ff9-aaa9-e1fe7f92fec2",
   "metadata": {
    "scrolled": true
   },
   "outputs": [
    {
     "name": "stdout",
     "output_type": "stream",
     "text": [
      "\n",
      "\n",
      "Key events of the 20th century - Wikipedia\n",
      "\n",
      "\n",
      "\n",
      "\n",
      "\n",
      "\n",
      "\n",
      "\n",
      "\n",
      "\n",
      "\n",
      "\n",
      "\n",
      "\n",
      "\n",
      "\n",
      "\n",
      "\n",
      "\n",
      "\n",
      "\n",
      "\n",
      "\n",
      "\n",
      "\n",
      "\n",
      "\n",
      "Jump to content\n",
      "\n",
      "\n",
      "\n",
      "\n",
      "\n",
      "\n",
      "\n",
      "Main \n"
     ]
    }
   ],
   "source": [
    "#Loading the 20-Century file\n",
    "with open(\"key_events_20th_century.txt\", \"r\", encoding=\"utf-8\") as f:\n",
    "    text = f.read()\n",
    "\n",
    "print(text[:100])  # Looking at the first 100 characters"
   ]
  },
  {
   "cell_type": "code",
   "execution_count": 6,
   "id": "44d590d2-0b21-4362-954d-ccef3fa5ec82",
   "metadata": {},
   "outputs": [],
   "source": [
    "#Cleaning the text\n",
    "clean_text = text.replace(\"U.S.\", \"United States\").replace(\"\\u2019\", \"'\")\n",
    "\n",
    "with open(\"key_events_20th_century_clean.txt\", \"w\", encoding=\"utf-8\") as f:\n",
    "    f.write(clean_text)"
   ]
  },
  {
   "cell_type": "code",
   "execution_count": 7,
   "id": "6f33e7f2-2dad-46ea-b42b-86ef9133893b",
   "metadata": {},
   "outputs": [],
   "source": [
    "#Creating a SpaCy Doc\n",
    "doc = NER(clean_text)"
   ]
  },
  {
   "cell_type": "code",
   "execution_count": 8,
   "id": "1e13f3c9-537d-4ce0-b503-af6b865fbbe9",
   "metadata": {},
   "outputs": [
    {
     "name": "stdout",
     "output_type": "stream",
     "text": [
      "Total sentences: 1579\n"
     ]
    }
   ],
   "source": [
    "#Splitting into sentences\n",
    "sentences = list(doc.sents)\n",
    "print(f\"Total sentences: {len(sentences)}\")"
   ]
  },
  {
   "cell_type": "code",
   "execution_count": 9,
   "id": "07ccf772-1b5d-4410-b08e-72381e9e358b",
   "metadata": {},
   "outputs": [],
   "source": [
    "#Creating Country List\n",
    "countries = [\n",
    "    \"United States\",\"United Kingdom\",\"France\",\"Germany\",\"Italy\",\n",
    "    \"Japan\",\"Russia\",\"China\",\"India\",\"Canada\"\n",
    "]"
   ]
  },
  {
   "cell_type": "code",
   "execution_count": 12,
   "id": "2726522d-9fb7-48e1-80a8-e803ea25c48c",
   "metadata": {},
   "outputs": [],
   "source": [
    "#Gathering relationships\n",
    "data = []\n",
    "for sent in sentences:\n",
    "    ents_in_sentence = [ent.text for ent in sent.ents if ent.text in countries]\n",
    "    if len(ents_in_sentence) > 1:\n",
    "        for i in range(len(ents_in_sentence)):\n",
    "            for j in range(i+1, len(ents_in_sentence)):\n",
    "                data.append((ents_in_sentence[i], ents_in_sentence[j], sent.text))"
   ]
  },
  {
   "cell_type": "code",
   "execution_count": 13,
   "id": "02dd15d8-3c94-4a7f-9f7d-e5bfd4f68d31",
   "metadata": {},
   "outputs": [
    {
     "data": {
      "text/html": [
       "<div>\n",
       "<style scoped>\n",
       "    .dataframe tbody tr th:only-of-type {\n",
       "        vertical-align: middle;\n",
       "    }\n",
       "\n",
       "    .dataframe tbody tr th {\n",
       "        vertical-align: top;\n",
       "    }\n",
       "\n",
       "    .dataframe thead th {\n",
       "        text-align: right;\n",
       "    }\n",
       "</style>\n",
       "<table border=\"1\" class=\"dataframe\">\n",
       "  <thead>\n",
       "    <tr style=\"text-align: right;\">\n",
       "      <th></th>\n",
       "      <th>Country1</th>\n",
       "      <th>Country2</th>\n",
       "      <th>Sentence</th>\n",
       "    </tr>\n",
       "  </thead>\n",
       "  <tbody>\n",
       "    <tr>\n",
       "      <th>0</th>\n",
       "      <td>France</td>\n",
       "      <td>Russia</td>\n",
       "      <td>After a period of diplomatic and military esca...</td>\n",
       "    </tr>\n",
       "    <tr>\n",
       "      <th>1</th>\n",
       "      <td>Germany</td>\n",
       "      <td>Russia</td>\n",
       "      <td>The Bolsheviks negotiated the Treaty of Brest-...</td>\n",
       "    </tr>\n",
       "    <tr>\n",
       "      <th>2</th>\n",
       "      <td>Germany</td>\n",
       "      <td>Italy</td>\n",
       "      <td>Germany, 1933\\nFascism first appeared in Italy...</td>\n",
       "    </tr>\n",
       "    <tr>\n",
       "      <th>3</th>\n",
       "      <td>Germany</td>\n",
       "      <td>Germany</td>\n",
       "      <td>The ideology was supported by a large proporti...</td>\n",
       "    </tr>\n",
       "    <tr>\n",
       "      <th>4</th>\n",
       "      <td>Germany</td>\n",
       "      <td>Germany</td>\n",
       "      <td>The Nazi Party in Germany was dedicated to the...</td>\n",
       "    </tr>\n",
       "  </tbody>\n",
       "</table>\n",
       "</div>"
      ],
      "text/plain": [
       "  Country1 Country2                                           Sentence\n",
       "0   France   Russia  After a period of diplomatic and military esca...\n",
       "1  Germany   Russia  The Bolsheviks negotiated the Treaty of Brest-...\n",
       "2  Germany    Italy  Germany, 1933\\nFascism first appeared in Italy...\n",
       "3  Germany  Germany  The ideology was supported by a large proporti...\n",
       "4  Germany  Germany  The Nazi Party in Germany was dedicated to the..."
      ]
     },
     "execution_count": 13,
     "metadata": {},
     "output_type": "execute_result"
    }
   ],
   "source": [
    "#Creating a relationship dataframe\n",
    "df = pd.DataFrame(data, columns=[\"Country1\",\"Country2\",\"Sentence\"])\n",
    "df.head()"
   ]
  },
  {
   "cell_type": "code",
   "execution_count": 14,
   "id": "fcbcfac8-643b-49ac-89aa-34d9a2568391",
   "metadata": {},
   "outputs": [],
   "source": [
    "df.to_csv(\"country_relationships.csv\", index=False)"
   ]
  },
  {
   "cell_type": "code",
   "execution_count": 16,
   "id": "ceb1b6ff-7791-4d85-a5f2-81d8afae4f1c",
   "metadata": {},
   "outputs": [
    {
     "name": "stdout",
     "output_type": "stream",
     "text": [
      "After a period of diplomatic and military escalation known as the July Crisis, by the end of July 1914 two coalitions were at war: the Allies, comprised initially of the British Empire, France, and the Russian Empire; and the Central Powers, comprised initially of the German Empire and Austria-Hungary.[1][2]\n",
      "In 1917, Russia ended hostile actions against the Central Powers after the fall of the Tsar.\n"
     ]
    }
   ],
   "source": [
    "# Loading the CSV back to check it came through\n",
    "check_df = pd.read_csv(\"country_relationships.csv\")\n",
    "\n",
    "# Printing full text for one cell to check if the sentences are cut off\n",
    "print(check_df.loc[0, 'Sentence'])"
   ]
  },
  {
   "cell_type": "code",
   "execution_count": 18,
   "id": "37c8d82a-afa0-4fbe-9a4b-e881ad7060b0",
   "metadata": {},
   "outputs": [
    {
     "data": {
      "text/html": [
       "<div>\n",
       "<style scoped>\n",
       "    .dataframe tbody tr th:only-of-type {\n",
       "        vertical-align: middle;\n",
       "    }\n",
       "\n",
       "    .dataframe tbody tr th {\n",
       "        vertical-align: top;\n",
       "    }\n",
       "\n",
       "    .dataframe thead th {\n",
       "        text-align: right;\n",
       "    }\n",
       "</style>\n",
       "<table border=\"1\" class=\"dataframe\">\n",
       "  <thead>\n",
       "    <tr style=\"text-align: right;\">\n",
       "      <th></th>\n",
       "      <th>Country1</th>\n",
       "      <th>Country2</th>\n",
       "      <th>Sentence</th>\n",
       "    </tr>\n",
       "  </thead>\n",
       "  <tbody>\n",
       "    <tr>\n",
       "      <th>0</th>\n",
       "      <td>France</td>\n",
       "      <td>Russia</td>\n",
       "      <td>After a period of diplomatic and military escalation known as the July Crisis, by the end of July 1914 two coalitions were at war: the Allies, comprised initially of the British Empire, France, and the Russian Empire; and the Central Powers, comprised initially of the German Empire and Austria-Hungary.[1][2]\\nIn 1917, Russia ended hostile actions against the Central Powers after the fall of the Tsar.</td>\n",
       "    </tr>\n",
       "    <tr>\n",
       "      <th>1</th>\n",
       "      <td>Germany</td>\n",
       "      <td>Russia</td>\n",
       "      <td>The Bolsheviks negotiated the Treaty of Brest-Litovsk with Germany, although it was a huge cost to Russia.</td>\n",
       "    </tr>\n",
       "    <tr>\n",
       "      <th>2</th>\n",
       "      <td>Germany</td>\n",
       "      <td>Italy</td>\n",
       "      <td>Germany, 1933\\nFascism first appeared in Italy with the rise to power of Benito Mussolini in 1922.[28]</td>\n",
       "    </tr>\n",
       "    <tr>\n",
       "      <th>3</th>\n",
       "      <td>Germany</td>\n",
       "      <td>Germany</td>\n",
       "      <td>The ideology was supported by a large proportion of the upper classes as a strong challenge to the threat of communism.[29]\\nWhen Adolf Hitler came to power in Germany in 1933, a new variant of fascism called Nazism took over Germany and ended the German experiment with democracy.</td>\n",
       "    </tr>\n",
       "    <tr>\n",
       "      <th>4</th>\n",
       "      <td>Germany</td>\n",
       "      <td>Germany</td>\n",
       "      <td>The Nazi Party in Germany was dedicated to the restoration of German honor and prestige, the unification of German-speaking peoples, and the annexation of Central and Eastern Europe as vassal states, with the Slavic population to act as slave labor to serve German economic interests.[30]  There was also a strong appeal to a mythical racial purity (the idea that Germans were the Herrenvolk or the \"master race\"), and a vicious antisemitism which promoted the idea of Jews as subhuman (Untermensch) and worthy only of extermination.[31]\\nMany people in Western Europe and the United States greeted the rise of Hitler with relief or indifference.[32] They could see nothing wrong with a strong Germany ready to take on the communist menace to the east.</td>\n",
       "    </tr>\n",
       "  </tbody>\n",
       "</table>\n",
       "</div>"
      ],
      "text/plain": [
       "  Country1 Country2  \\\n",
       "0   France   Russia   \n",
       "1  Germany   Russia   \n",
       "2  Germany    Italy   \n",
       "3  Germany  Germany   \n",
       "4  Germany  Germany   \n",
       "\n",
       "                                                                                                                                                                                                                                                                                                                                                                                                                                                                                                                                                                                                                                                                                                                                                                           Sentence  \n",
       "0                                                                                                                                                                                                                                                                                                                                                               After a period of diplomatic and military escalation known as the July Crisis, by the end of July 1914 two coalitions were at war: the Allies, comprised initially of the British Empire, France, and the Russian Empire; and the Central Powers, comprised initially of the German Empire and Austria-Hungary.[1][2]\\nIn 1917, Russia ended hostile actions against the Central Powers after the fall of the Tsar.  \n",
       "1                                                                                                                                                                                                                                                                                                                                                                                                                                                                                                                                                                                                                                                                        The Bolsheviks negotiated the Treaty of Brest-Litovsk with Germany, although it was a huge cost to Russia.  \n",
       "2                                                                                                                                                                                                                                                                                                                                                                                                                                                                                                                                                                                                                                                                            Germany, 1933\\nFascism first appeared in Italy with the rise to power of Benito Mussolini in 1922.[28]  \n",
       "3                                                                                                                                                                                                                                                                                                                                                                                                                                                                                         The ideology was supported by a large proportion of the upper classes as a strong challenge to the threat of communism.[29]\\nWhen Adolf Hitler came to power in Germany in 1933, a new variant of fascism called Nazism took over Germany and ended the German experiment with democracy.  \n",
       "4  The Nazi Party in Germany was dedicated to the restoration of German honor and prestige, the unification of German-speaking peoples, and the annexation of Central and Eastern Europe as vassal states, with the Slavic population to act as slave labor to serve German economic interests.[30]  There was also a strong appeal to a mythical racial purity (the idea that Germans were the Herrenvolk or the \"master race\"), and a vicious antisemitism which promoted the idea of Jews as subhuman (Untermensch) and worthy only of extermination.[31]\\nMany people in Western Europe and the United States greeted the rise of Hitler with relief or indifference.[32] They could see nothing wrong with a strong Germany ready to take on the communist menace to the east.  "
      ]
     },
     "execution_count": 18,
     "metadata": {},
     "output_type": "execute_result"
    }
   ],
   "source": [
    "#showing full text without truncation\n",
    "pd.set_option('display.max_colwidth', None)  # None = no limit\n",
    "df.head()"
   ]
  },
  {
   "cell_type": "code",
   "execution_count": null,
   "id": "8e50808c-7a22-4783-8b4f-8102c056d0e4",
   "metadata": {},
   "outputs": [],
   "source": []
  }
 ],
 "metadata": {
  "kernelspec": {
   "display_name": "Python (20th_century)",
   "language": "python",
   "name": "20th_century"
  },
  "language_info": {
   "codemirror_mode": {
    "name": "ipython",
    "version": 3
   },
   "file_extension": ".py",
   "mimetype": "text/x-python",
   "name": "python",
   "nbconvert_exporter": "python",
   "pygments_lexer": "ipython3",
   "version": "3.11.3"
  }
 },
 "nbformat": 4,
 "nbformat_minor": 5
}
