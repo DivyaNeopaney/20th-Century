{
 "cells": [
  {
   "cell_type": "code",
   "execution_count": 2,
   "id": "1b5f7b2e-43bc-4385-9fff-1b54126853f4",
   "metadata": {},
   "outputs": [
    {
     "name": "stdout",
     "output_type": "stream",
     "text": [
      "Scraping done — variable 'text_only' is ready.\n"
     ]
    }
   ],
   "source": [
    "#Scrapping the page\n",
    "from selenium import webdriver\n",
    "from selenium.webdriver.chrome.service import Service\n",
    "from webdriver_manager.chrome import ChromeDriverManager\n",
    "from bs4 import BeautifulSoup\n",
    "import time\n",
    "\n",
    "# Starting Chrome using webdriver-manager\n",
    "driver = webdriver.Chrome(service=Service(ChromeDriverManager().install()))\n",
    "driver.get(\"https://en.wikipedia.org/wiki/Key_events_of_the_20th_century\")\n",
    "\n",
    "time.sleep(3)  # waiting for the page to fully load\n",
    "\n",
    "# Parsing HTML into text\n",
    "soup = BeautifulSoup(driver.page_source, \"html.parser\")\n",
    "driver.quit()\n",
    "\n",
    "text_only = soup.get_text()\n",
    "print(\"Scraping done — variable 'text_only' is ready.\")"
   ]
  },
  {
   "cell_type": "code",
   "execution_count": 6,
   "id": "b996273d-c5dc-4d2d-a743-4f39f676cc1a",
   "metadata": {},
   "outputs": [
    {
     "name": "stdout",
     "output_type": "stream",
     "text": [
      "Saved scraped text to: /Users/divyaneopaney/20th-century/key_events_20th_century.txt\n"
     ]
    }
   ],
   "source": [
    "#Saving to .txt file\n",
    "filename = \"/Users/divyaneopaney/20th-century/key_events_20th_century.txt\"\n",
    "\n",
    "if 'text_only' in globals() and text_only:\n",
    "    with open(filename, \"w\", encoding=\"utf-8\") as f:\n",
    "        f.write(text_only)\n",
    "    print(f\"Saved scraped text to: {filename}\")\n",
    "else:\n",
    "    print(\"Error: 'text_only' is empty. Run the scraping cell first.\")"
   ]
  },
  {
   "cell_type": "code",
   "execution_count": null,
   "id": "a616cda5-5243-4d17-93df-96dc37fe1b54",
   "metadata": {},
   "outputs": [],
   "source": []
  }
 ],
 "metadata": {
  "kernelspec": {
   "display_name": "Python (20th_century)",
   "language": "python",
   "name": "20th_century"
  },
  "language_info": {
   "codemirror_mode": {
    "name": "ipython",
    "version": 3
   },
   "file_extension": ".py",
   "mimetype": "text/x-python",
   "name": "python",
   "nbconvert_exporter": "python",
   "pygments_lexer": "ipython3",
   "version": "3.11.13"
  }
 },
 "nbformat": 4,
 "nbformat_minor": 5
}
